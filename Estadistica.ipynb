{
 "cells": [
  {
   "cell_type": "markdown",
   "metadata": {
    "id": "_RJG5zv0AXih"
   },
   "source": [
    "# Estadística\n",
    "Cuando trabajamos con grandes cantidades de datos muchas veces podemos reducir la información a unos pocos valores que nos digan como se comportan. Para eso usamos estadística. \n",
    "\n",
    "En esta notebook usaremos el paquete **NumPy** para poder hacer operaciones matématicas algo más complejas o usar definiciones de estimadores estadísticos ya definidos. Para hacer visualizaciones usaremos `matplolib`. \n",
    "\n",
    "\n",
    "<ul style=\"list-style-type:none\">\n",
    "    <li><a href='#1.-Medidas-de-centralización'>1. Medidas de centralización</a></li>\n",
    "    <li><a href=\"#2.-Medidas-de-dispersion\">2. Medidas de dispersión </a></li>\n",
    "    <li><a href=\"#3.-Regresión-y-correlación\">3. Regresión y correlación </a></li>\n",
    "    <li><a href=\"#4.-Ejercicios-para-practicar\">4. Ejercicios </a></li>\n",
    "\n",
    "\n",
    "\n",
    "</ul>"
   ]
  },
  {
   "cell_type": "markdown",
   "metadata": {},
   "source": [
    "## 1. Medidas de centralización\n",
    "Son las medidas centrales de los datos, nos dan una idea de la magnitud de estos. Nos permiten apreciar diferencias entre muestras. Aquí vemos las más utilizadas: "
   ]
  },
  {
   "cell_type": "markdown",
   "metadata": {},
   "source": [
    "La **media** es la suma de todos los datos dividido por el tamaño de la muestro: \n",
    "    $x=\\frac{1}{n}\\sum x_i$.\n",
    "    \n",
    "La **mediana** es la cantidad tal que el número de datos menores y mayores es igual. Sería ordenar la muestra y coger el valor central\n",
    "\n",
    "La **moda** es el dato que más veces se repite. Si hacemos un histograma, será el más elevado.  La moda no es una buena medida cuando hay muy pocos datos. \n",
    "\n",
    "Cuando la distribución es Gaussiana se suelen parecer estos estimadores del valor central, pero para distribuciones més complicadas pueden dar informaciones valuosas las tres medidas.\n",
    "\n",
    "<img src=\"img/medidas_centrales.png\" width=600 height=400 />\n",
    "\n",
    "Usaremos el archivo AlturaPeso.csv para ver unos ejemplos usando las funciones definidas en `numpy`."
   ]
  },
  {
   "cell_type": "code",
   "execution_count": 87,
   "metadata": {},
   "outputs": [],
   "source": [
    "# Leemos el archivo con pandas y guardamos los datos en x y en y. \n",
    "\n",
    "import pandas as pd\n",
    "\n",
    "datos = pd.read_csv(\"data/AlturaPeso.csv\")\n",
    "\n",
    "x = datos[\"Altura\"]\n",
    "y = datos[\"Peso\"]"
   ]
  },
  {
   "cell_type": "code",
   "execution_count": 88,
   "metadata": {
    "id": "sp6iyECKJ62V"
   },
   "outputs": [],
   "source": [
    "import matplotlib.pyplot as pl\n",
    "import numpy as np"
   ]
  },
  {
   "cell_type": "markdown",
   "metadata": {
    "id": "nCzFjkoSM07f"
   },
   "source": [
    "Primero de todo lo representamos gráficamente"
   ]
  },
  {
   "cell_type": "code",
   "execution_count": 3,
   "metadata": {
    "colab": {
     "base_uri": "https://localhost:8080/",
     "height": 301
    },
    "id": "P8hWXhi4KaiN",
    "outputId": "4a1dc405-3021-4341-b4cd-10f4a01bd777"
   },
   "outputs": [
    {
     "data": {
      "image/png": "[encoded data removed]",
      "text/plain": [
       "<Figure size 432x288 with 1 Axes>"
      ]
     },
     "metadata": {
      "needs_background": "light"
     },
     "output_type": "display_data"
    }
   ],
   "source": [
    "pl.hist(y, bins=15)\n",
    "pl.xlabel(\"Peso (kg)\")\n",
    "pl.ylabel(\"Frecuencia absoluta\");"
   ]
  },
  {
   "cell_type": "markdown",
   "metadata": {
    "id": "HcVRthUhNCbf"
   },
   "source": [
    "- Media muestral"
   ]
  },
  {
   "cell_type": "code",
   "execution_count": 80,
   "metadata": {
    "colab": {
     "base_uri": "https://localhost:8080/",
     "height": 35
    },
    "id": "2v-5ZKpcM_9L",
    "outputId": "262aa950-d6c1-4bd3-a620-e5ea2f605b72"
   },
   "outputs": [
    {
     "data": {
      "text/plain": [
       "71.0"
      ]
     },
     "execution_count": 80,
     "metadata": {},
     "output_type": "execute_result"
    }
   ],
   "source": [
    "np.mean(y)"
   ]
  },
  {
   "cell_type": "markdown",
   "metadata": {
    "id": "my3xo27WNIDw"
   },
   "source": [
    "- Mediana"
   ]
  },
  {
   "cell_type": "code",
   "execution_count": 81,
   "metadata": {
    "colab": {
     "base_uri": "https://localhost:8080/",
     "height": 35
    },
    "id": "2TafEujwNG1F",
    "outputId": "3cb615e4-f78b-4201-f30e-93d7786f020d"
   },
   "outputs": [
    {
     "data": {
      "text/plain": [
       "75.0"
      ]
     },
     "execution_count": 81,
     "metadata": {},
     "output_type": "execute_result"
    }
   ],
   "source": [
    "np.median(y)"
   ]
  },
  {
   "cell_type": "markdown",
   "metadata": {
    "id": "oZRWEz6NNLd4"
   },
   "source": [
    "- Moda"
   ]
  },
  {
   "cell_type": "code",
   "execution_count": 82,
   "metadata": {},
   "outputs": [
    {
     "data": {
      "text/plain": [
       "75"
      ]
     },
     "execution_count": 82,
     "metadata": {},
     "output_type": "execute_result"
    }
   ],
   "source": [
    "# no esté en numy\n",
    "import statistics as stat\n",
    "\n",
    "stat.mode(y)"
   ]
  },
  {
   "cell_type": "markdown",
   "metadata": {},
   "source": [
    "Como vemos se parecen mucho, la primera es ligeramente más baja porque le pesa más los valores extremos. Imaginemos que en esa muestra se añade sin querer a un niño que pesa 20 kg.\n",
    "\n"
   ]
  },
  {
   "cell_type": "code",
   "execution_count": 83,
   "metadata": {},
   "outputs": [
    {
     "data": {
      "image/png": "[encoded data removed]",
      "text/plain": [
       "<Figure size 432x288 with 1 Axes>"
      ]
     },
     "metadata": {
      "needs_background": "light"
     },
     "output_type": "display_data"
    }
   ],
   "source": [
    "peso = list(y)\n",
    "peso.append(20)\n",
    "pl.hist(peso, bins=15);"
   ]
  },
  {
   "cell_type": "code",
   "execution_count": 8,
   "metadata": {},
   "outputs": [
    {
     "data": {
      "text/plain": [
       "69.3"
      ]
     },
     "execution_count": 8,
     "metadata": {},
     "output_type": "execute_result"
    }
   ],
   "source": [
    "np.mean(peso)"
   ]
  },
  {
   "cell_type": "code",
   "execution_count": 9,
   "metadata": {},
   "outputs": [
    {
     "data": {
      "text/plain": [
       "75.0"
      ]
     },
     "execution_count": 9,
     "metadata": {},
     "output_type": "execute_result"
    }
   ],
   "source": [
    "np.median(peso)"
   ]
  },
  {
   "cell_type": "code",
   "execution_count": 10,
   "metadata": {},
   "outputs": [
    {
     "data": {
      "text/plain": [
       "75"
      ]
     },
     "execution_count": 10,
     "metadata": {},
     "output_type": "execute_result"
    }
   ],
   "source": [
    "stat.mode(y)"
   ]
  },
  {
   "cell_type": "markdown",
   "metadata": {},
   "source": [
    "Como vemos la media cambiar por un solo individuo muy marcado mientras que las otras 2 no. En este caso sería más representativo de la población usar las mediana o la moda como valor central. "
   ]
  },
  {
   "cell_type": "markdown",
   "metadata": {},
   "source": [
    "## 2. Medidas de dispersión\n",
    "La medida de posición central es normalmente insuficiente para hacer un resumen de los datos, dos distribuciones pueden coincidir en la media pero ser muy distinto.  \n",
    "\n",
    "<img src=\"img/sigmas.png\" width=500 height=400 />\n",
    "\n",
    "Para tener más información sobre nuestro datos buscamos medir la dispersión. Las más utilizadas son:\n",
    "\n",
    "* El **recorrido** : distancia entre el mayor y el menor elemento de la muestra.\n",
    "\n",
    "* La **varianza**: Suma de desviaciones de la muestra respecto a la media\n",
    "\n",
    "$ \\sigma^2 = \\frac{1}{n}\\sum(x_i-<x>)^2$\n",
    "\n",
    "* La **desviación típica** que es la raíz cuadrada de la varianza\n",
    "\n",
    "$\\sigma = \\sqrt{\\sigma^2}$\n",
    "\n",
    "* Cuartiles. Percentil del 25\\%, del 50\\% y del 75\\%. El segundo cuartil es la mediana.\n",
    " \n",
    "La más usada es la desviación típica, pero es menos útil cuanto más asimétrica es la distribución de los datos. En cuyo caso los cuartiles pueden ser más interesantes. "
   ]
  },
  {
   "cell_type": "markdown",
   "metadata": {},
   "source": [
    "Recorrido"
   ]
  },
  {
   "cell_type": "code",
   "execution_count": 11,
   "metadata": {},
   "outputs": [
    {
     "name": "stdout",
     "output_type": "stream",
     "text": [
      "El recorrido de los pesos es : 51.00\n",
      "El recorrido de las alturas es:  33\n"
     ]
    }
   ],
   "source": [
    "def rec(data):\n",
    "    return max(data) - min(data)\n",
    "print('El recorrido de los pesos es : {:.2f}'.format(rec(y)))\n",
    "print('El recorrido de las alturas es: ', np.round(rec(x),2))"
   ]
  },
  {
   "cell_type": "markdown",
   "metadata": {},
   "source": [
    "Desviación típica"
   ]
  },
  {
   "cell_type": "code",
   "execution_count": 12,
   "metadata": {},
   "outputs": [
    {
     "name": "stdout",
     "output_type": "stream",
     "text": [
      "La desviación típica de los pesos es : 12.22\n",
      "La desviación típica de las alturas es:  7.72\n"
     ]
    }
   ],
   "source": [
    "# desviación típiica\n",
    "print('La desviación típica de los pesos es : {:.2f}'.format(np.std(y)))\n",
    "print('La desviación típica de las alturas es: ', np.round(np.std(x),2))"
   ]
  },
  {
   "cell_type": "markdown",
   "metadata": {},
   "source": [
    "En realidad la desviación típica muestral, donde la media ha sido calculada a partir de la muestra y no es el valor real\n",
    ", en vez de dividir por N se divide por N-1. Esto se puede añadir con el parámetro `ddof`, tal que el denominador es `N-ddof`. Para N grandes la diferencia es poca, pero para N pequeña la diferencia puede ser más importante."
   ]
  },
  {
   "cell_type": "code",
   "execution_count": 13,
   "metadata": {},
   "outputs": [
    {
     "name": "stdout",
     "output_type": "stream",
     "text": [
      "La desviación típica de los pesos es : 12.44\n",
      "La desviación típica de las alturas es:  7.86\n"
     ]
    }
   ],
   "source": [
    "print('La desviación típica de los pesos es : {:.2f}'.format(np.std(y,ddof=1)))\n",
    "print('La desviación típica de las alturas es: ', np.round(np.std(x,ddof=1),2))"
   ]
  },
  {
   "cell_type": "markdown",
   "metadata": {},
   "source": [
    "También es interesante ver el coeficiente de variación, que es la desviación típica divida por la media de la muestra"
   ]
  },
  {
   "cell_type": "code",
   "execution_count": 14,
   "metadata": {},
   "outputs": [
    {
     "name": "stdout",
     "output_type": "stream",
     "text": [
      "0.18\n",
      "0.04\n"
     ]
    }
   ],
   "source": [
    "print('{:.2f}'.format(np.std(y,ddof=1)/np.mean(y)))\n",
    "print(np.round(np.std(x,ddof=1)/np.mean(x),2))"
   ]
  },
  {
   "cell_type": "markdown",
   "metadata": {},
   "source": [
    "Es una manera de compara dos distribuciones de magnitudes distintas, como por ejemplo si quisieramos comparar la dispersión peso de hormigas, dispersión peso de elefantes."
   ]
  },
  {
   "cell_type": "raw",
   "metadata": {},
   "source": [
    "Varianza\n",
    "Como la muestra es pequeña seguimos usando `ddof=1`."
   ]
  },
  {
   "cell_type": "code",
   "execution_count": 15,
   "metadata": {
    "colab": {
     "base_uri": "https://localhost:8080/",
     "height": 35
    },
    "id": "ftWVK4F5NurY",
    "outputId": "a6a20fd1-5308-404e-f18e-8f9f601f478e"
   },
   "outputs": [
    {
     "name": "stdout",
     "output_type": "stream",
     "text": [
      "La varianza de los pesos es : 154.64\n",
      "La varianza de las alturas es:  61.76\n"
     ]
    }
   ],
   "source": [
    "print('La varianza de los pesos es : {:.2f}'.format(np.var(y,ddof=1)))\n",
    "print('La varianza de las alturas es: ', np.round(np.var(x,ddof=1),2))"
   ]
  },
  {
   "cell_type": "code",
   "execution_count": 16,
   "metadata": {},
   "outputs": [
    {
     "name": "stdout",
     "output_type": "stream",
     "text": [
      "Los cuartiles de las alturas del 25% es 171.0, del 50% 176.0 y de 75% 181.0\n"
     ]
    }
   ],
   "source": [
    "q75, q50, q25 = np.percentile(x, [75 ,50, 25])\n",
    "print('Los cuartiles de las alturas del 25% es {}, del 50% {} y de 75% {}'.format(q25,q50,q75))"
   ]
  },
  {
   "cell_type": "code",
   "execution_count": 17,
   "metadata": {},
   "outputs": [
    {
     "name": "stdout",
     "output_type": "stream",
     "text": [
      "Los cuartiles de los pesos del 25% es 62.0, del 50% 75.0 y de 75% 80.0\n"
     ]
    }
   ],
   "source": [
    "q75, q50, q25 = np.percentile(y, [75 ,50, 25])\n",
    "print('Los cuartiles de los pesos del 25% es {}, del 50% {} y de 75% {}'.format(q25,q50,q75))"
   ]
  },
  {
   "cell_type": "markdown",
   "metadata": {
    "id": "CNCyXiTMN95A"
   },
   "source": [
    "**Simetría**\n",
    "La manera más rápida de ver si una población se comporta de manera simétrica con respecto al valor central es visualizarla. "
   ]
  },
  {
   "cell_type": "code",
   "execution_count": 18,
   "metadata": {},
   "outputs": [
    {
     "data": {
      "image/png": "[encoded data removed]",
      "text/plain": [
       "<Figure size 720x288 with 2 Axes>"
      ]
     },
     "metadata": {
      "needs_background": "light"
     },
     "output_type": "display_data"
    }
   ],
   "source": [
    "# Miramos las distribuciones de peso y de altura\n",
    "pl.figure(figsize=(10,4))\n",
    "pl.subplot(1,2,1)\n",
    "pl.hist(y)\n",
    "pl.xlabel('peso (kg)');\n",
    "pl.subplot(1,2,2)\n",
    "pl.hist(x)\n",
    "pl.xlabel('altura (cm)');"
   ]
  },
  {
   "cell_type": "markdown",
   "metadata": {},
   "source": [
    "Si necesitamos cuantificarlo, por ejemplo si tenemos que analizar muchas poblaciones no podemos andar mirando cada gráfica, \n",
    ". Entonces podemos mirarlo con la distancia entre **cuartiles**.  Comparar el recorrido entre los cuartiles q75-q50 y q50 - q25, nos dará una idea de cuan símetrica es la distribución."
   ]
  },
  {
   "cell_type": "code",
   "execution_count": 19,
   "metadata": {},
   "outputs": [
    {
     "name": "stdout",
     "output_type": "stream",
     "text": [
      "distancia entre cuatriles alturas 5.0 5.0\n"
     ]
    }
   ],
   "source": [
    "q75, q50, q25 = np.percentile(x, [75 ,50, 25])\n",
    "print('distancia entre cuatriles alturas', q75 - q50, q50 - q25)"
   ]
  },
  {
   "cell_type": "code",
   "execution_count": 20,
   "metadata": {},
   "outputs": [
    {
     "name": "stdout",
     "output_type": "stream",
     "text": [
      "distancia entre cuartiles pesos 5.0 13.0\n"
     ]
    }
   ],
   "source": [
    "q75, q50, q25 = np.percentile(y, [75 ,50, 25])\n",
    "print('distancia entre cuartiles pesos', q75 - q50, q50 - q25)"
   ]
  },
  {
   "cell_type": "markdown",
   "metadata": {},
   "source": [
    "Como se veía en la visualización es más simétrica la distribución de alturas. Otra medida para calcular la simetría es calcular la **skewness** de la distribución, que sería el momento de orden 3. \n",
    "\n",
    "$ s = \\frac{1}{n}\\frac{\\sum(x_i-<x>)^3}{\\sigma^3}$\n",
    "\n",
    "Si la **skewness** es negativa quiere decir que la cola de la izquierda es mayor que la de la derecha, y si es positiva al revés. "
   ]
  },
  {
   "cell_type": "code",
   "execution_count": 21,
   "metadata": {},
   "outputs": [
    {
     "data": {
      "text/plain": [
       "-0.2497098762561793"
      ]
     },
     "execution_count": 21,
     "metadata": {},
     "output_type": "execute_result"
    }
   ],
   "source": [
    "import scipy.stats as st\n",
    "st.skew(y)        \n",
    "        "
   ]
  },
  {
   "cell_type": "code",
   "execution_count": 22,
   "metadata": {},
   "outputs": [
    {
     "data": {
      "text/plain": [
       "-0.4544216245423485"
      ]
     },
     "execution_count": 22,
     "metadata": {},
     "output_type": "execute_result"
    }
   ],
   "source": [
    "st.skew(x)  "
   ]
  },
  {
   "cell_type": "markdown",
   "metadata": {
    "id": "s3Ov_X_YOPOl"
   },
   "source": [
    "## 3. Regresión y correlación\n",
    "A veces queremos saber el grado de asociación entre dos variables X e Y. En el caso de la **regresión** la variables X no varía mientras que la Y es una variable aleatoria que puede tomar varios valores. Un ejemplo sería la tensión arterial de un paciente con la dosis de medicamento. La cantidad de medicamento no es aleatoria, está determinada y sería la variables X, en cambio Y que sería la respuesta podría tomar valores que no conocemos y tenemos que tomar, y sería la variable Y. \n",
    "\n",
    "Cuando miramos la **correlación**, en cambio, lo hacemos entre dos variables que no pueden ser predichas por el observador y por eso a ambas las llamamos variables aleatorias. ej. como se relaciona la altura y el peso de las personas. "
   ]
  },
  {
   "cell_type": "markdown",
   "metadata": {},
   "source": [
    "**Regresión lineal simple**\n",
    "\n",
    "En este caso miramos si las variables están relacionadas linearmente. Es decir, que la relación entre la variables determinada X y la aleatoria Y sigue la ecuación de una recta.\n",
    "\n",
    "$Y=aX + b$. Vamos a ver como hacerlo con el archivo **income.data.csv** "
   ]
  },
  {
   "cell_type": "code",
   "execution_count": 23,
   "metadata": {},
   "outputs": [
    {
     "data": {
      "text/html": [
       "<div>\n",
       "<style scoped>\n",
       "    .dataframe tbody tr th:only-of-type {\n",
       "        vertical-align: middle;\n",
       "    }\n",
       "\n",
       "    .dataframe tbody tr th {\n",
       "        vertical-align: top;\n",
       "    }\n",
       "\n",
       "    .dataframe thead th {\n",
       "        text-align: right;\n",
       "    }\n",
       "</style>\n",
       "<table border=\"1\" class=\"dataframe\">\n",
       "  <thead>\n",
       "    <tr style=\"text-align: right;\">\n",
       "      <th></th>\n",
       "      <th>Unnamed: 0</th>\n",
       "      <th>income</th>\n",
       "      <th>happiness</th>\n",
       "    </tr>\n",
       "  </thead>\n",
       "  <tbody>\n",
       "    <tr>\n",
       "      <th>0</th>\n",
       "      <td>1</td>\n",
       "      <td>3.862647</td>\n",
       "      <td>2.314489</td>\n",
       "    </tr>\n",
       "    <tr>\n",
       "      <th>1</th>\n",
       "      <td>2</td>\n",
       "      <td>4.979381</td>\n",
       "      <td>3.433490</td>\n",
       "    </tr>\n",
       "    <tr>\n",
       "      <th>2</th>\n",
       "      <td>3</td>\n",
       "      <td>4.923957</td>\n",
       "      <td>4.599373</td>\n",
       "    </tr>\n",
       "    <tr>\n",
       "      <th>3</th>\n",
       "      <td>4</td>\n",
       "      <td>3.214372</td>\n",
       "      <td>2.791114</td>\n",
       "    </tr>\n",
       "    <tr>\n",
       "      <th>4</th>\n",
       "      <td>5</td>\n",
       "      <td>7.196409</td>\n",
       "      <td>5.596398</td>\n",
       "    </tr>\n",
       "    <tr>\n",
       "      <th>...</th>\n",
       "      <td>...</td>\n",
       "      <td>...</td>\n",
       "      <td>...</td>\n",
       "    </tr>\n",
       "    <tr>\n",
       "      <th>493</th>\n",
       "      <td>494</td>\n",
       "      <td>5.249209</td>\n",
       "      <td>4.568705</td>\n",
       "    </tr>\n",
       "    <tr>\n",
       "      <th>494</th>\n",
       "      <td>495</td>\n",
       "      <td>3.471799</td>\n",
       "      <td>2.535002</td>\n",
       "    </tr>\n",
       "    <tr>\n",
       "      <th>495</th>\n",
       "      <td>496</td>\n",
       "      <td>6.087610</td>\n",
       "      <td>4.397451</td>\n",
       "    </tr>\n",
       "    <tr>\n",
       "      <th>496</th>\n",
       "      <td>497</td>\n",
       "      <td>3.440847</td>\n",
       "      <td>2.070664</td>\n",
       "    </tr>\n",
       "    <tr>\n",
       "      <th>497</th>\n",
       "      <td>498</td>\n",
       "      <td>4.530545</td>\n",
       "      <td>3.710193</td>\n",
       "    </tr>\n",
       "  </tbody>\n",
       "</table>\n",
       "<p>498 rows × 3 columns</p>\n",
       "</div>"
      ],
      "text/plain": [
       "     Unnamed: 0    income  happiness\n",
       "0             1  3.862647   2.314489\n",
       "1             2  4.979381   3.433490\n",
       "2             3  4.923957   4.599373\n",
       "3             4  3.214372   2.791114\n",
       "4             5  7.196409   5.596398\n",
       "..          ...       ...        ...\n",
       "493         494  5.249209   4.568705\n",
       "494         495  3.471799   2.535002\n",
       "495         496  6.087610   4.397451\n",
       "496         497  3.440847   2.070664\n",
       "497         498  4.530545   3.710193\n",
       "\n",
       "[498 rows x 3 columns]"
      ]
     },
     "execution_count": 23,
     "metadata": {},
     "output_type": "execute_result"
    }
   ],
   "source": [
    "# cargamos el archivo incom.data\n",
    "df = pd.read_csv('data/income.data.csv')\n",
    "df"
   ]
  },
  {
   "cell_type": "code",
   "execution_count": 85,
   "metadata": {},
   "outputs": [],
   "source": [
    "# como queremos trabajar con numpy lo pasamos a un array\n",
    "income = np.array(df[\"income\"]) # en miles de doalres al mes\n",
    "happiness = np.array(df[\"happiness\"]) # valorada del 1 al 10"
   ]
  },
  {
   "cell_type": "code",
   "execution_count": 86,
   "metadata": {},
   "outputs": [
    {
     "data": {
      "image/png": "[encoded data removed]",
      "text/plain": [
       "<Figure size 432x288 with 1 Axes>"
      ]
     },
     "metadata": {
      "needs_background": "light"
     },
     "output_type": "display_data"
    }
   ],
   "source": [
    "# cuando tenemos variables aleatorias es muy útil usar scatter\n",
    "# en realidad es una variable de plot con el marker predeterminado\n",
    "pl.scatter(income, happiness)\n",
    "pl.xlabel('income ');\n",
    "pl.ylabel('happiness');"
   ]
  },
  {
   "cell_type": "markdown",
   "metadata": {},
   "source": [
    "Solo mirando el gráfico ya vemos que están claramente relacionados, cuando sube el salario sube la felicidad. Pero vamos a cuantificarlo, porque como antes, no siempre podemos ver todos los datos. Para eso haremos una **regresión lineal**. Que básicamente mimiza la distancia entre el valor observado de happiness y el valor estimado con la recta\n",
    "\n",
    "d = [(income * a + b) - happiness]**2"
   ]
  },
  {
   "cell_type": "code",
   "execution_count": 26,
   "metadata": {},
   "outputs": [
    {
     "data": {
      "text/plain": [
       "array([0.71382551, 0.2042704 ])"
      ]
     },
     "execution_count": 26,
     "metadata": {},
     "output_type": "execute_result"
    }
   ],
   "source": [
    "recta = np.polyfit(income, happiness, 1)\n",
    "recta\n",
    "# en recta [0] está la pendiente a\n",
    "# en recta [1] está la constante b\n",
    "# happiness = a * income + b"
   ]
  },
  {
   "cell_type": "code",
   "execution_count": 27,
   "metadata": {},
   "outputs": [
    {
     "data": {
      "image/png": "[encoded data removed]",
      "text/plain": [
       "<Figure size 432x288 with 1 Axes>"
      ]
     },
     "metadata": {
      "needs_background": "light"
     },
     "output_type": "display_data"
    }
   ],
   "source": [
    "pl.scatter(income, happiness)\n",
    "pl.plot(income, recta[0] * income + recta[1], 'r')\n",
    "pl.xlabel('income');\n",
    "pl.ylabel('happiness');"
   ]
  },
  {
   "cell_type": "markdown",
   "metadata": {},
   "source": [
    "<img src=\"img/hapinnesIncome.jpg\" width=500 height=400 />"
   ]
  },
  {
   "cell_type": "markdown",
   "metadata": {},
   "source": [
    "Si a > 0 se relacionan postivivamente (si una crece la otra también) mientras que si a es negativa se relacionan negativamente (cuando una crece la otra decrece). Si es 0 suele ser que no están relacionadas linearmente, vemos un ejemplo.  "
   ]
  },
  {
   "cell_type": "code",
   "execution_count": 28,
   "metadata": {},
   "outputs": [
    {
     "name": "stdout",
     "output_type": "stream",
     "text": [
      "-0.028157413112929814 0.1678167283725567\n"
     ]
    },
    {
     "data": {
      "image/png": "[encoded data removed]",
      "text/plain": [
       "<Figure size 432x288 with 1 Axes>"
      ]
     },
     "metadata": {
      "needs_background": "light"
     },
     "output_type": "display_data"
    }
   ],
   "source": [
    "# lanzamos números aleatorios y vemos si están relacionados\n",
    "# con el income\n",
    "r = np.random.normal(size = len(income))\n",
    "pl.scatter(income,r)\n",
    "recta = np.polyfit(income, r, 1)\n",
    "print(recta[0],recta[1])\n",
    "pl.plot(income, income * recta[0] + recta[1],'r');"
   ]
  },
  {
   "cell_type": "markdown",
   "metadata": {},
   "source": [
    "Para tener una cuantificación más clara de si la variables están relacionadas se usa el **coeficiente de determinación**:\n",
    "\n",
    "$R^2=\\left(\\frac{\\sigma_{XY}}{\\sigma_Y\\sigma_X}\\right)^2$. \n",
    "\n",
    "Este coeficiente nos transmite la idea de en qué medida el conocimiento de X determina el conocimiento de Y, así si R = 0, no sirve de nada conocer X para saber algo de Y. Mientras que si es 1, conociendo X determina completamente el conocimiento de Y. Usamos la función de **NumPy** `corrcoef`:\n"
   ]
  },
  {
   "cell_type": "code",
   "execution_count": 58,
   "metadata": {},
   "outputs": [
    {
     "data": {
      "text/plain": [
       "array([[1.        , 0.74932175],\n",
       "       [0.74932175, 1.        ]])"
      ]
     },
     "execution_count": 58,
     "metadata": {},
     "output_type": "execute_result"
    }
   ],
   "source": [
    "np.corrcoef(income, happiness)**2"
   ]
  },
  {
   "cell_type": "code",
   "execution_count": 59,
   "metadata": {},
   "outputs": [
    {
     "data": {
      "text/plain": [
       "0.7493217544857415"
      ]
     },
     "execution_count": 59,
     "metadata": {},
     "output_type": "execute_result"
    }
   ],
   "source": [
    "np.corrcoef(income, happiness)[0,1]**2"
   ]
  },
  {
   "cell_type": "code",
   "execution_count": 60,
   "metadata": {},
   "outputs": [
    {
     "data": {
      "text/plain": [
       "0.002244466908573693"
      ]
     },
     "execution_count": 60,
     "metadata": {},
     "output_type": "execute_result"
    }
   ],
   "source": [
    "np.corrcoef(income, r)[0,1]**2"
   ]
  },
  {
   "cell_type": "markdown",
   "metadata": {},
   "source": [
    "**Correlación**\n",
    "\n",
    "Cuando las dos variables son aleatorias miraremos la correlación entre ellas usando el coeficiente de correlación lineal \n",
    "\n",
    "$\\rho = \\frac{\\sigma_{XY}}{\\sigma_Y\\sigma_X}$\n",
    "\n",
    "Este puede ser entre -1 y 1 y nos dirá como se relacionan ambas variables, si es 0 no hay correlación mientras que si es 1 o -1 es máxima en uno u otro sentido. Este análisis solo sirve si la relación es lineal. Puede que haya variables relacionadas pero que den una correlación pequeña. \n",
    "\n",
    "* Covarianza:\n",
    "Cuando tenemos varias columnas de datos es útil calcular la matriz de covarianza ($C$) para ver los datos que presentan más correlación. $C_{ii}$ tendremos las varianzas de cada variable y en las columnas $C_{ij}$ las covarianzas, es una matriz simétrica, por lo que $C_{ij} = C_{ji}$.\n",
    "\n",
    "Vemos un ejemplo:"
   ]
  },
  {
   "cell_type": "code",
   "execution_count": 66,
   "metadata": {
    "colab": {
     "base_uri": "https://localhost:8080/",
     "height": 53
    },
    "id": "1KZEyC5SORN5",
    "outputId": "662993a1-a4e4-4981-ed8c-5346c1f74a66"
   },
   "outputs": [
    {
     "data": {
      "text/plain": [
       "array([[ 61.76108374,  72.        ],\n",
       "       [ 72.        , 154.64285714]])"
      ]
     },
     "execution_count": 66,
     "metadata": {},
     "output_type": "execute_result"
    }
   ],
   "source": [
    "# Calculamos la matriz de covarianza de las alturas y los pesos co\n",
    "np.cov(x,y)"
   ]
  },
  {
   "cell_type": "markdown",
   "metadata": {},
   "source": [
    "* Correlación. \n",
    "La matriz de correlación nos da cuenta de la intensidad de la correlación entre variables. En este caso los elementos de la diagonal son siempre 1, y fuera de la diagonal se muestra el coeficiente de correlación. Este va de -1 a 1. "
   ]
  },
  {
   "cell_type": "code",
   "execution_count": 68,
   "metadata": {
    "colab": {
     "base_uri": "https://localhost:8080/",
     "height": 53
    },
    "id": "goKPgPwLOX1N",
    "outputId": "b4858740-eaf2-45ad-97d3-8c388e7100fd"
   },
   "outputs": [
    {
     "data": {
      "text/plain": [
       "array([[1.        , 0.73673298],\n",
       "       [0.73673298, 1.        ]])"
      ]
     },
     "execution_count": 68,
     "metadata": {},
     "output_type": "execute_result"
    }
   ],
   "source": [
    "# también podemos calcular el coeficiente de correlación\n",
    "np.corrcoef(x,y)"
   ]
  },
  {
   "cell_type": "markdown",
   "metadata": {
    "id": "cIkVkJnSObfJ"
   },
   "source": [
    "- Representación gráfica"
   ]
  },
  {
   "cell_type": "code",
   "execution_count": 74,
   "metadata": {
    "colab": {
     "base_uri": "https://localhost:8080/",
     "height": 283
    },
    "id": "e-qEb80vOlCG",
    "outputId": "c061f170-5fdf-40ea-ae67-3f66226759db"
   },
   "outputs": [
    {
     "data": {
      "text/plain": [
       "Text(0, 0.5, 'Peso (kg)')"
      ]
     },
     "execution_count": 74,
     "metadata": {},
     "output_type": "execute_result"
    },
    {
     "data": {
      "image/png": "[encoded data removed]",
      "text/plain": [
       "<Figure size 432x288 with 1 Axes>"
      ]
     },
     "metadata": {
      "needs_background": "light"
     },
     "output_type": "display_data"
    }
   ],
   "source": [
    "pl.plot(x, y, '.')\n",
    "pl.xlabel(\"Altura (cm)\")\n",
    "pl.ylabel(\"Peso (kg)\")"
   ]
  },
  {
   "cell_type": "markdown",
   "metadata": {},
   "source": [
    "también podría intentar ajusta una recta para tener una relación entre ambas variables\n"
   ]
  },
  {
   "cell_type": "code",
   "execution_count": 75,
   "metadata": {},
   "outputs": [
    {
     "data": {
      "text/plain": [
       "Text(0, 0.5, 'Peso (kg)')"
      ]
     },
     "execution_count": 75,
     "metadata": {},
     "output_type": "execute_result"
    },
    {
     "data": {
      "image/png": "[encoded data removed]",
      "text/plain": [
       "<Figure size 432x288 with 1 Axes>"
      ]
     },
     "metadata": {
      "needs_background": "light"
     },
     "output_type": "display_data"
    }
   ],
   "source": [
    "recta = np.polyfit(x, y, 1)\n",
    "pl.plot(x, y, '.')\n",
    "pl.plot(x, x*recta[0]+recta[1],'r')\n",
    "pl.xlabel(\"Altura (cm)\")\n",
    "pl.ylabel(\"Peso (kg)\")"
   ]
  },
  {
   "cell_type": "markdown",
   "metadata": {},
   "source": [
    "**A tener en cuenta**\n",
    "\n",
    "* Recordad que si la relación no es lineal pueden darnos coeficientes pequeños y pensamos que las variables no están relacionadas pero si lo están. \n",
    "* Si una variable es controlada se puede hablar de regresión pero no de correlación. \n",
    "* Solo por el hecho de que dos variables estén correlacionadas no establece una relación **causa - efecto**. Ejemplos: \n",
    "\n",
    "    - Número de helados vendidos por mes y número de muertes por ahogamiento en el mar probablemente muestran correlación ya que ambas variables aumentan en verano, pero evidentemente ninguna es la causa de la otra.\n",
    "\n",
    "    - Número de cigüeñas en Noruega y número de nacimientos están ligeramente correlacionados. Llegada en la primavera coincide 9 meses después del pico del verano. \n",
    "\n",
    "    - Se ha visto que hay correlación negativa entre coger el metro y riesgo de parada cardiovascular. La gente que coge el metro anda más, y eso si tene relación.\n",
    "\n",
    "Podéis ver más correlaciones spureas curiosas en [aquí](http://tylervigen.com/spurious-correlations)"
   ]
  },
  {
   "cell_type": "markdown",
   "metadata": {},
   "source": [
    "## 4. Ejercicios para practicar"
   ]
  },
  {
   "cell_type": "markdown",
   "metadata": {},
   "source": [
    "1.1 Escribe dos funciones \" a mano\" una que te calcule la moda de unos datos y otra la skewness con las definiciones dadas en la notebook. \n",
    "\n",
    "1.2 Lanza números aleatorios con una distribución normal con 100 números con media = 2 y dispersión = 1. Lanza otra con 10000 números. Visualizalas. Haz lo mismo para una función gamma con shape = 3. \n",
    "\n",
    "1.3 Qué podrías decir sobre los valores de la moda y de la skewness que esperarías de ambas distribuciones antes de hacer el cálculo?\n",
    "\n",
    "1.4 Usa tus funciones para calcular la moda y la skewness de esos datos. Compara los ejercicios con la función mode y skewness de los paquetes de estadística dados en la notebook.\n",
    "\n",
    "1.5 ¿Qué conclusiones podrías sacar de este ejercicio?\n",
    "\n",
    "\n",
    "Recuerda que puedes ver como generar números aleatorios en https://numpy.org/doc/1.16/reference/routines.random.html\n",
    "\n"
   ]
  },
  {
   "cell_type": "code",
   "execution_count": null,
   "metadata": {},
   "outputs": [],
   "source": [
    "# Código"
   ]
  },
  {
   "cell_type": "markdown",
   "metadata": {},
   "source": [
    "2. En el archivo data/DoctoresUranio.csv figuran el número de doctorados en matemáticas en EEUU y la canditad de Uranio almacenado en centrales nucleares de EEUU (en millones de libras) entre los años 1996 y 2008.\n",
    "\n",
    "* Representa los datos gráficamente.\n",
    "\n",
    "* Calcula el coeficiente de correlación lineal y comenta cómo de grande es el grado de asociación entre ambas variables. ¿Podríais hacer una predicción de la cantidad de Uranio almacenada en 2020 conociendo el número de doctorados en matemáticas?"
   ]
  },
  {
   "cell_type": "code",
   "execution_count": 84,
   "metadata": {},
   "outputs": [],
   "source": [
    "# Código"
   ]
  },
  {
   "cell_type": "code",
   "execution_count": null,
   "metadata": {},
   "outputs": [],
   "source": []
  }
 ],
 "metadata": {
  "colab": {
   "collapsed_sections": [],
   "name": "Esdatistica_descriptiva.ipynb",
   "provenance": []
  },
  "kernelspec": {
   "display_name": "Python 3 (ipykernel)",
   "language": "python",
   "name": "python3"
  },
  "language_info": {
   "codemirror_mode": {
    "name": "ipython",
    "version": 3
   },
   "file_extension": ".py",
   "mimetype": "text/x-python",
   "name": "python",
   "nbconvert_exporter": "python",
   "pygments_lexer": "ipython3",
   "version": "3.8.2"
  }
 },
 "nbformat": 4,
 "nbformat_minor": 1
}
