{
 "cells": [
  {
   "cell_type": "markdown",
   "metadata": {
    "id": "6N6hdr5uQJ4e"
   },
   "source": [
    "# Distribuciones de Probabilidad"
   ]
  },
  {
   "cell_type": "code",
   "execution_count": null,
   "metadata": {
    "id": "xX78WA1sQWHe"
   },
   "outputs": [],
   "source": [
    "from scipy.stats import binom,poisson,norm"
   ]
  },
  {
   "cell_type": "markdown",
   "metadata": {
    "id": "8XKwa4aUQZ-F"
   },
   "source": [
    "## Distribución Binomial\n",
    "\n",
    "- Ejemplo: Lanzamos 5 veces una moneda. ¿Probabilidad de sacar 4 caras?"
   ]
  },
  {
   "cell_type": "code",
   "execution_count": null,
   "metadata": {
    "colab": {
     "base_uri": "https://localhost:8080/",
     "height": 34
    },
    "id": "EHzReJNwQg5f",
    "outputId": "91f34b78-9e52-4df2-ff04-9edb861d74ea"
   },
   "outputs": [
    {
     "data": {
      "text/plain": [
       "0.15624999999999994"
      ]
     },
     "execution_count": 2,
     "metadata": {
      "tags": []
     },
     "output_type": "execute_result"
    }
   ],
   "source": [
    "x=4\n",
    "n=5\n",
    "p=0.5\n",
    "\n",
    "binom.pmf(x,n,p)"
   ]
  },
  {
   "cell_type": "markdown",
   "metadata": {
    "id": "MzeXQmhoQmy4"
   },
   "source": [
    "- Lanzamos 5 veces una moneda. ¿Probabilidad de sacar 4 caras o menos?"
   ]
  },
  {
   "cell_type": "code",
   "execution_count": null,
   "metadata": {
    "colab": {
     "base_uri": "https://localhost:8080/",
     "height": 34
    },
    "id": "E1GNBOhaQpMH",
    "outputId": "4c719e4a-249c-4af5-839e-30f41ecf56c6"
   },
   "outputs": [
    {
     "data": {
      "text/plain": [
       "0.96875"
      ]
     },
     "execution_count": 3,
     "metadata": {
      "tags": []
     },
     "output_type": "execute_result"
    }
   ],
   "source": [
    "binom.cdf(x,n,p)"
   ]
  },
  {
   "cell_type": "markdown",
   "metadata": {
    "id": "V93EZG4oQxRQ"
   },
   "source": [
    "## Distribución de Poisson\n",
    "- Ejemplo: El número medio de accidentes por año un una carretera es 3. ¿Probabilidad de que haya 7 el próximo año?\n"
   ]
  },
  {
   "cell_type": "code",
   "execution_count": null,
   "metadata": {
    "colab": {
     "base_uri": "https://localhost:8080/",
     "height": 34
    },
    "id": "OOZKGliZQy1K",
    "outputId": "a2e526a8-078d-4a12-b6f0-9e1d965683c1"
   },
   "outputs": [
    {
     "data": {
      "text/plain": [
       "0.02160403145248382"
      ]
     },
     "execution_count": 4,
     "metadata": {
      "tags": []
     },
     "output_type": "execute_result"
    }
   ],
   "source": [
    "lmbd=3\n",
    "x=7\n",
    "poisson.pmf(x,lmbd)"
   ]
  },
  {
   "cell_type": "markdown",
   "metadata": {
    "id": "ObD59sBMQ4m8"
   },
   "source": [
    "- ¿Probabilidad de que haya 7 o menos el próximo año?"
   ]
  },
  {
   "cell_type": "code",
   "execution_count": null,
   "metadata": {
    "colab": {
     "base_uri": "https://localhost:8080/",
     "height": 34
    },
    "id": "FImZHDBrQ7PY",
    "outputId": "48607fa3-5f9b-4531-ddca-93ad41c5b3d2"
   },
   "outputs": [
    {
     "data": {
      "text/plain": [
       "0.9880954961436426"
      ]
     },
     "execution_count": 5,
     "metadata": {
      "tags": []
     },
     "output_type": "execute_result"
    }
   ],
   "source": [
    "poisson.cdf(x,lmbd)"
   ]
  },
  {
   "cell_type": "markdown",
   "metadata": {
    "id": "kHTWb9Y2Q8gV"
   },
   "source": [
    "## Distribución Normal\n",
    "\n",
    "- Ejemplo: En una población la altura media es 1.75m  y la desviación típica 0.1m ¿Probabilidad de que una persona de la población mida menos de 1.60m?"
   ]
  },
  {
   "cell_type": "code",
   "execution_count": null,
   "metadata": {
    "colab": {
     "base_uri": "https://localhost:8080/",
     "height": 34
    },
    "id": "8ucbMbwcRDEu",
    "outputId": "68e583cb-9044-469b-8522-ac7a1fbcd2c3"
   },
   "outputs": [
    {
     "data": {
      "text/plain": [
       "0.06059753594308204"
      ]
     },
     "execution_count": 7,
     "metadata": {
      "tags": []
     },
     "output_type": "execute_result"
    }
   ],
   "source": [
    "x=1.60\n",
    "mu=1.75\n",
    "sigma=0.1\n",
    "\n",
    "norm.cdf(x,mu,sigma)-norm.cdf(1.50,mu,sigma)"
   ]
  },
  {
   "cell_type": "markdown",
   "metadata": {
    "id": "M3lZs-o-RFZV"
   },
   "source": [
    "- Halla la altura tal que el 5% de la población tenga una altura menor."
   ]
  },
  {
   "cell_type": "code",
   "execution_count": null,
   "metadata": {
    "colab": {
     "base_uri": "https://localhost:8080/",
     "height": 34
    },
    "id": "wFUDnJj6RHqs",
    "outputId": "1d210e80-51d5-47ef-ce3e-7aa2598b6a49"
   },
   "outputs": [
    {
     "data": {
      "text/plain": [
       "1.5855146373048528"
      ]
     },
     "execution_count": 8,
     "metadata": {
      "tags": []
     },
     "output_type": "execute_result"
    }
   ],
   "source": [
    "norm.ppf(.05,mu,sigma)"
   ]
  }
 ],
 "metadata": {
  "colab": {
   "collapsed_sections": [],
   "name": "Distribuciones.ipynb",
   "provenance": []
  },
  "kernelspec": {
   "display_name": "Python 3 (ipykernel)",
   "language": "python",
   "name": "python3"
  },
  "language_info": {
   "codemirror_mode": {
    "name": "ipython",
    "version": 3
   },
   "file_extension": ".py",
   "mimetype": "text/x-python",
   "name": "python",
   "nbconvert_exporter": "python",
   "pygments_lexer": "ipython3",
   "version": "3.8.2"
  }
 },
 "nbformat": 4,
 "nbformat_minor": 1
}
